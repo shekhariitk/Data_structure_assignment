{
  "nbformat": 4,
  "nbformat_minor": 0,
  "metadata": {
    "colab": {
      "provenance": []
    },
    "kernelspec": {
      "name": "python3",
      "display_name": "Python 3"
    },
    "language_info": {
      "name": "python"
    }
  },
  "cells": [
    {
      "cell_type": "code",
      "execution_count": 1,
      "metadata": {
        "id": "7TgrRg4cOJpl"
      },
      "outputs": [],
      "source": [
        "# Q1) Discuss string slicing and provide examples ?"
      ]
    },
    {
      "cell_type": "code",
      "source": [
        "'''String slicing in Python is a technique that allows you to extract a specific part of a string by specifying a range of indices. The syntax for slicing is:\n",
        "\n",
        " syntax:\n",
        "string[start:end:step]\n",
        "\n",
        "\n",
        "start: The index where the slice begins (inclusive).\n",
        "end: The index where the slice ends (exclusive).\n",
        "step: The number of characters to skip (optional).'''\n",
        "\n",
        "'''Simple Slicing:'''\n",
        "\n",
        "text = \"Hello, World!\"\n",
        "slice1 = text[0:5]  # 'Hello'\n",
        "slice2 = text[7:12]  # 'World'\n",
        "print(slice1, slice2)\n",
        "\n",
        "'''omitting start and end '''\n",
        "\n",
        "text = \"Hello, World!\"\n",
        "slice3 = text[:5]  # 'Hello' (from the start to index 5)\n",
        "slice4 = text[7:]  # 'World!' (from index 7 to the end)\n",
        "print(slice3, slice4)\n",
        "\n",
        "'''Negative indices '''\n",
        "text = \"Hello, World!\"\n",
        "slice5 = text[-6:-1]  # 'World' (negative indices count from the end)\n",
        "print(slice5)\n",
        "\n",
        "\n",
        "'''Using step '''\n",
        "text = \"Hello, World!\"\n",
        "slice6 = text[::2]  # 'Hlo ol!' (every second character)\n",
        "print(slice6)\n",
        "\n",
        "\n",
        "'''Reversing a string '''\n",
        "\n",
        "text = \"Hello, World!\"\n",
        "reversed_text = text[::-1]  # '!dlroW ,olleH'\n",
        "print(reversed_text)\n",
        "\n",
        "\n"
      ],
      "metadata": {
        "colab": {
          "base_uri": "https://localhost:8080/"
        },
        "id": "MTgYI2PpPHDd",
        "outputId": "58262547-dc25-48aa-d60f-d9ecdf0fa005"
      },
      "execution_count": 2,
      "outputs": [
        {
          "output_type": "stream",
          "name": "stdout",
          "text": [
            "Hello World\n",
            "Hello World!\n",
            "World\n",
            "Hlo ol!\n",
            "!dlroW ,olleH\n"
          ]
        }
      ]
    },
    {
      "cell_type": "code",
      "source": [
        "# Q2)   Explain the key features of list in python ?"
      ],
      "metadata": {
        "id": "i8lrdJg_QRq3"
      },
      "execution_count": 3,
      "outputs": []
    },
    {
      "cell_type": "code",
      "source": [
        "'''Lists in Python are one of the most versatile and commonly used data structures. Here are some key features:\n",
        "\n",
        "1. Ordered Collection\n",
        "Lists maintain the order of elements. The items are indexed based on their position, starting from 0.\n",
        "\n",
        "2. Mutable\n",
        "Lists are mutable, meaning you can change their contents (add, remove, or modify elements) after creation.\n",
        "\n",
        "3. Dynamic Sizing\n",
        "You can add or remove items, and the size of the list can grow or shrink as needed.\n",
        "\n",
        "4. Heterogeneous Elements\n",
        "Lists can store items of different data types, including integers, strings, other lists, and objects.\n",
        "\n",
        "5. Nested Lists\n",
        "Lists can contain other lists as elements, allowing for multi-dimensional data structures.\n",
        "\n",
        "6. Supports Various Methods\n",
        "Python lists come with a range of built-in methods, such as:\n",
        "append(): Adds an element to the end of the list.\n",
        "extend(): Extends the list by appending elements from another iterable.\n",
        "insert(): Inserts an element at a specified position.\n",
        "remove(): Removes the first occurrence of a specified value.\n",
        "pop(): Removes and returns an element at a given position (default is the last item).\n",
        "sort(): Sorts the list in ascending order.\n",
        "reverse(): Reverses the elements in the list.\n",
        "\n",
        "7. Supports Slicing\n",
        "You can slice lists to access a range of elements, similar to strings.\n",
        "\n",
        "8. Iteration\n",
        "Lists are iterable, allowing you to use loops to process each element.\n",
        "\n",
        "Example\n",
        "Here’s a quick demonstration of some list features:'''\n",
        "\n",
        "# Creating a list\n",
        "my_list = [1, 2, 3, 'Python', [5, 6]]\n",
        "\n",
        "# Accessing elements\n",
        "print(my_list[3])  # Output: 'Python'\n",
        "print(my_list[4][1])  # Output: 6 (accessing nested list)\n",
        "\n",
        "# Modifying the list\n",
        "my_list.append(7)  # Adds 7 to the end\n",
        "my_list[0] = 0     # Changes first element to 0\n",
        "\n",
        "# Removing an element\n",
        "my_list.remove(2)\n",
        "\n",
        "# Slicing the list\n",
        "print(my_list[1:4])  # Output: [3, 'Python', [5, 6]]\n",
        "\n",
        "# Iterating through the list\n",
        "for item in my_list:\n",
        "    print(item)\n"
      ],
      "metadata": {
        "colab": {
          "base_uri": "https://localhost:8080/"
        },
        "id": "fjz-x-CwQb8h",
        "outputId": "3cf81294-999a-45e1-db63-ce38729161ce"
      },
      "execution_count": 4,
      "outputs": [
        {
          "output_type": "stream",
          "name": "stdout",
          "text": [
            "Python\n",
            "6\n",
            "[3, 'Python', [5, 6]]\n",
            "0\n",
            "3\n",
            "Python\n",
            "[5, 6]\n",
            "7\n"
          ]
        }
      ]
    },
    {
      "cell_type": "code",
      "source": [
        "# Q3) Describe how to access , modify , and delete elements in a list with examples ?"
      ],
      "metadata": {
        "id": "t28R2XqwRAqb"
      },
      "execution_count": 5,
      "outputs": []
    },
    {
      "cell_type": "code",
      "source": [
        "'''Accessing, modifying, and deleting elements in a list are fundamental operations in Python. Here's how you can do each, with examples.\n",
        "\n",
        "Accessing Elements\n",
        "You can access elements in a list using their index. Remember that indexing starts from 0.'''\n",
        "\n",
        "my_list = [10, 20, 30, 40, 50]\n",
        "\n",
        "# Accessing elements\n",
        "first_element = my_list[0]  # 10\n",
        "last_element = my_list[-1]   # 50 (negative index for the last element)\n",
        "\n",
        "print(first_element, last_element)\n",
        "\n",
        "\n",
        "'''Modifying Elements\n",
        "You can change the value of an existing element by using its index.'''\n",
        "\n",
        "my_list = [10, 20, 30, 40, 50]\n",
        "\n",
        "# Modifying an element\n",
        "my_list[2] = 99  # Change the value at index 2 (third element)\n",
        "print(my_list)   # Output: [10, 20, 99, 40, 50]\n",
        "\n",
        "# Modifying using slice assignment\n",
        "my_list[1:3] = [21, 22]  # Replacing multiple elements\n",
        "print(my_list)           # Output: [10, 21, 22, 40, 50]\n",
        "\n",
        "'''Deleting Elements\n",
        "You can delete elements using several methods, including del, remove(), and pop().\n",
        "\n",
        "1) Using del: This removes an element at a specific index.'''\n",
        "\n",
        "my_list = [10, 20, 30, 40, 50]\n",
        "\n",
        "# Deleting an element by index\n",
        "del my_list[1]  # Removes the element at index 1 (20)\n",
        "print(my_list)  # Output: [10, 30, 40, 50]\n",
        "\n",
        "\n",
        "'''2) Using remove() '''\n",
        "my_list = [10, 20, 30, 20, 50]\n",
        "\n",
        "# Removing an element by value\n",
        "my_list.remove(20)  # Removes the first occurrence of 20\n",
        "print(my_list)      # Output: [10, 30, 20, 50]\n",
        "\n",
        "\n",
        "''' 3) using pop()'''\n",
        "\n",
        "my_list = [10, 20, 30, 40, 50]\n",
        "\n",
        "# Popping an element\n",
        "popped_element = my_list.pop(2)  # Removes and returns the element at index 2\n",
        "print(popped_element)  # Output: 30\n",
        "print(my_list)        # Output: [10, 20, 40, 50]\n",
        "\n",
        "\n",
        "\n",
        "\n",
        "\n",
        "\n",
        "\n"
      ],
      "metadata": {
        "colab": {
          "base_uri": "https://localhost:8080/"
        },
        "id": "pLICbZZ1SXQa",
        "outputId": "b02eae92-b331-4b1b-cdaa-f8c5c4ef7a5d"
      },
      "execution_count": 6,
      "outputs": [
        {
          "output_type": "stream",
          "name": "stdout",
          "text": [
            "10 50\n",
            "[10, 20, 99, 40, 50]\n",
            "[10, 21, 22, 40, 50]\n",
            "[10, 30, 40, 50]\n",
            "[10, 30, 20, 50]\n",
            "30\n",
            "[10, 20, 40, 50]\n"
          ]
        }
      ]
    },
    {
      "cell_type": "code",
      "source": [
        "# Q4) Compare and contrast tuples and lists with examples ?"
      ],
      "metadata": {
        "id": "xzKUKsWfTRFM"
      },
      "execution_count": 7,
      "outputs": []
    },
    {
      "cell_type": "code",
      "source": [
        "'''Tuples and lists are both built-in data structures in Python that can store collections of items, but they have key differences. Here’s a comparison of their features, along with examples.\n",
        "\n",
        "1. Mutability\n",
        "Lists: Mutable, meaning you can change their contents after creation (add, remove, or modify elements).\n",
        "Tuples: Immutable, meaning once they are created, their contents cannot be changed.\n",
        "Example:\n",
        "python\n",
        "Copy code\n",
        "# List example'''\n",
        "\n",
        "my_list = [1, 2, 3]\n",
        "my_list[0] = 10  # Modifying an element\n",
        "my_list.append(4)  # Adding an element\n",
        "print(my_list)  # Output: [10, 2, 3, 4]\n",
        "\n",
        "# Tuple example\n",
        "my_tuple = (1, 2, 3)\n",
        "# my_tuple[0] = 10  # This would raise a TypeError\n",
        "print(my_tuple)  # Output: (1, 2, 3)\n",
        "'''2. Syntax\n",
        "Lists: Defined using square brackets [].\n",
        "Tuples: Defined using parentheses ().\n",
        "'''\n",
        "\n",
        "# List\n",
        "my_list = [1, 2, 3]\n",
        "\n",
        "# Tuple\n",
        "my_tuple = (1, 2, 3)\n",
        "\n",
        "\n",
        "'''3. Performance\n",
        "Lists: Generally have more overhead due to their mutability, which can lead to slower performance in some cases.\n",
        "Tuples: Because they are immutable, they can be slightly faster and consume less memory.\n",
        "'''\n",
        "import sys\n",
        "\n",
        "list_example = [1, 2, 3]\n",
        "tuple_example = (1, 2, 3)\n",
        "\n",
        "print(sys.getsizeof(list_example))  # Size in bytes of the list\n",
        "print(sys.getsizeof(tuple_example))  # Size in bytes of the tuple\n",
        "\n",
        "\n",
        "\n",
        "'''4. Use Cases\n",
        "Lists: Use when you need a collection of items that may need to change (e.g., dynamic data).\n",
        "Tuples: Use when you need a fixed collection of items (e.g., coordinates, records) or to protect the data from modification.\n",
        "5. Methods\n",
        "Lists: Have a variety of built-in methods for manipulation (e.g., append(), remove(), pop()).\n",
        "Tuples: Have fewer built-in methods (e.g., count(), index()).\n",
        "'''\n",
        "# List methods\n",
        "my_list = [1, 2, 3]\n",
        "my_list.append(4)  # Adding an element\n",
        "print(my_list)     # Output: [1, 2, 3, 4]\n",
        "\n",
        "# Tuple methods\n",
        "my_tuple = (1, 2, 2, 3)\n",
        "count_of_twos = my_tuple.count(2)  # Counting occurrences of 2\n",
        "print(count_of_twos)  # Output: 2\n",
        "'''6. Nested Structures\n",
        "Both lists and tuples can contain other lists or tuples.\n",
        "'''\n",
        "nested_list = [1, 2, [3, 4]]\n",
        "nested_tuple = (1, 2, (3, 4))\n",
        "\n",
        "print(nested_list)  # Output: [1, 2, [3, 4]]\n",
        "print(nested_tuple)  # Output: (1, 2, (3, 4))\n"
      ],
      "metadata": {
        "colab": {
          "base_uri": "https://localhost:8080/"
        },
        "id": "FIk_245rTxaQ",
        "outputId": "eef975d9-a904-46da-90f3-3b9efc79cf46"
      },
      "execution_count": 8,
      "outputs": [
        {
          "output_type": "stream",
          "name": "stdout",
          "text": [
            "[10, 2, 3, 4]\n",
            "(1, 2, 3)\n",
            "88\n",
            "64\n",
            "[1, 2, 3, 4]\n",
            "2\n",
            "[1, 2, [3, 4]]\n",
            "(1, 2, (3, 4))\n"
          ]
        }
      ]
    },
    {
      "cell_type": "code",
      "source": [
        "# Q5) Describe the key features of stes and provide examples of their uses ?"
      ],
      "metadata": {
        "id": "qzvLwg0TUiVg"
      },
      "execution_count": 9,
      "outputs": []
    },
    {
      "cell_type": "code",
      "source": [
        "'''Sets in Python are an unordered collection of unique elements. They are highly useful for various applications, particularly in scenarios where you need to store distinct items. Here are the key features of sets, along with examples of their uses:\n",
        "\n",
        "Key Features of Sets\n",
        "Unordered Collection:\n",
        "\n",
        "Sets do not maintain any order. The elements are not indexed, and you cannot access them by position.\n",
        "'''\n",
        "my_set = {3, 1, 2}\n",
        "print(my_set)  # Output could be {1, 2, 3} or {3, 2, 1}, order is not guaranteed\n",
        "'''2. Unique Elements:\n",
        "\n",
        "Sets automatically remove duplicate values. If you try to add an element that already exists, it will not be added again.\n",
        "'''\n",
        "my_set = {1, 2, 2, 3}\n",
        "print(my_set)  # Output: {1, 2, 3}\n",
        "'''3. Mutable:\n",
        "\n",
        "You can add or remove elements from a set after its creation, but the elements themselves must be immutable types.\n",
        "'''\n",
        "my_set = {1, 2, 3}\n",
        "my_set.add(4)       # Adding an element\n",
        "my_set.remove(2)    # Removing an element\n",
        "print(my_set)  # Output: {1, 3, 4}\n",
        "'''4. Supports Mathematical Set Operations:\n",
        "\n",
        "Sets allow for operations like union, intersection, difference, and symmetric difference.\n",
        "'''\n",
        "set_a = {1, 2, 3}\n",
        "set_b = {2, 3, 4}\n",
        "\n",
        "union_set = set_a | set_b             # Union\n",
        "intersection_set = set_a & set_b      # Intersection\n",
        "difference_set = set_a - set_b        # Difference\n",
        "symmetric_difference_set = set_a ^ set_b  # Symmetric Difference\n",
        "\n",
        "print(union_set)                  # Output: {1, 2, 3, 4}\n",
        "print(intersection_set)           # Output: {2, 3}\n",
        "print(difference_set)             # Output: {1}\n",
        "print(symmetric_difference_set)    # Output: {1, 4}\n",
        "'''5. Fast Membership Testing:\n",
        "\n",
        "Sets provide O(1) average time complexity for membership tests (checking if an element exists).\n",
        "'''\n",
        "my_set = {1, 2, 3}\n",
        "print(2 in my_set)  # Output: True\n",
        "print(4 in my_set)  # Output: False\n",
        "\n",
        "'''6. Set Comprehensions:\n",
        "\n",
        "Similar to list comprehensions, you can create sets using set comprehensions for more concise code.\n",
        "'''\n",
        "squares = {x**2 for x in range(5)}\n",
        "print(squares)  # Output: {0, 1, 4, 9, 16}\n",
        "\n",
        "'''\n",
        "Uses of Sets\n",
        "Removing Duplicates:\n",
        "\n",
        "Sets are often used to remove duplicate values from a list.\n",
        "'''\n",
        "my_list = [1, 2, 2, 3, 4, 4, 5]\n",
        "unique_values = set(my_list)\n",
        "print(unique_values)  # Output: {1, 2, 3, 4, 5}\n",
        "\n",
        "\n",
        "'''Data Analysis:\n",
        "\n",
        "Sets are useful in data analysis for operations like finding unique items in datasets.\n",
        "Mathematical Operations:\n",
        "\n",
        "Useful for performing set operations in applications involving mathematics, such as statistics or probability.\n",
        "Membership Testing:\n",
        "\n",
        "Use sets for fast membership testing in scenarios like filtering or searching through data.\n",
        "Graph Theory:\n",
        "\n",
        "Sets can represent edges or vertices in graphs, where uniqueness is crucial.'''"
      ],
      "metadata": {
        "colab": {
          "base_uri": "https://localhost:8080/",
          "height": 261
        },
        "id": "qyIwygYEUvts",
        "outputId": "4499d75a-62ae-494d-c90b-1ae74ff401dd"
      },
      "execution_count": 10,
      "outputs": [
        {
          "output_type": "stream",
          "name": "stdout",
          "text": [
            "{1, 2, 3}\n",
            "{1, 2, 3}\n",
            "{1, 3, 4}\n",
            "{1, 2, 3, 4}\n",
            "{2, 3}\n",
            "{1}\n",
            "{1, 4}\n",
            "True\n",
            "False\n",
            "{0, 1, 4, 9, 16}\n",
            "{1, 2, 3, 4, 5}\n"
          ]
        },
        {
          "output_type": "execute_result",
          "data": {
            "text/plain": [
              "'Data Analysis:\\n\\nSets are useful in data analysis for operations like finding unique items in datasets.\\nMathematical Operations:\\n\\nUseful for performing set operations in applications involving mathematics, such as statistics or probability.\\nMembership Testing:\\n\\nUse sets for fast membership testing in scenarios like filtering or searching through data.\\nGraph Theory:\\n\\nSets can represent edges or vertices in graphs, where uniqueness is crucial.'"
            ],
            "application/vnd.google.colaboratory.intrinsic+json": {
              "type": "string"
            }
          },
          "metadata": {},
          "execution_count": 10
        }
      ]
    },
    {
      "cell_type": "code",
      "source": [
        "# Q6) Discuss the use cases of tuples and sets in pythonb programming ?"
      ],
      "metadata": {
        "id": "oGdEpARiWGIh"
      },
      "execution_count": 11,
      "outputs": []
    },
    {
      "cell_type": "code",
      "source": [
        "'''Use Cases for Tuples\n",
        "1. Immutable Collections:\n",
        "\n",
        "Tuples are immutable, making them ideal for storing data that should not change. This feature is useful for constants or fixed configurations.\n",
        "'''\n",
        "settings = (1920, 1080)  # Screen resolution\n",
        "\n",
        "\n",
        "'''2. Heterogeneous Data:\n",
        "\n",
        "Tuples can store items of different types. This makes them suitable for representing records or structured data, such as a database record.\n",
        "'''\n",
        "user_info = (\"Alice\", 30, \"Engineer\")  # Name, age, profession\n",
        "\n",
        "\n",
        "'''3. Function Arguments and Returns:\n",
        "\n",
        "Tuples are commonly used for returning multiple values from functions.\n",
        "'''\n",
        "def calculate_dimensions():\n",
        "    return (1920, 1080)  # Width, Height\n",
        "\n",
        "width, height = calculate_dimensions()\n",
        "\n",
        "'''4. Dictionary Keys:\n",
        "\n",
        "Because they are immutable, tuples can be used as keys in dictionaries, whereas lists cannot.\n",
        "'''\n",
        "locations = {(0, 0): \"Origin\", (1, 1): \"Point A\"}\n",
        "\n",
        "'''5. Data Integrity:\n",
        "\n",
        "Use tuples to ensure data integrity when passing around data that should not be modified.\n",
        "'''\n",
        "coordinates = (10.0, 20.0)\n",
        "# The coordinates should not change, ensuring consistency\n",
        "\n",
        "\n",
        "'''Use Cases for Sets\n",
        "Unique Collections:\n",
        "\n",
        "Sets automatically handle duplicate entries, making them ideal for collecting unique items, such as unique user IDs or product SKUs.\n",
        "'''\n",
        "unique_ids = {1, 2, 3, 2, 1}  # Output: {1, 2, 3}\n",
        "\n",
        "'''2. Membership Testing:\n",
        "\n",
        "Sets provide fast membership testing (average O(1) complexity), making them ideal for scenarios where you need to frequently check for the existence of an item.\n",
        "'''\n",
        "allowed_users = {\"Alice\", \"Bob\", \"Charlie\"}\n",
        "if \"Alice\" in allowed_users:\n",
        "    print(\"Access granted\")\n",
        "\n",
        "'''3. Mathematical Operations:\n",
        "\n",
        "Sets support operations like union, intersection, difference, and symmetric difference, making them useful for mathematical computations.\n",
        "'''\n",
        "set_a = {1, 2, 3}\n",
        "set_b = {3, 4, 5}\n",
        "intersection = set_a & set_b  # Output: {3}\n",
        "'''4. Data Cleaning:\n",
        "\n",
        "Use sets to remove duplicates from lists or other collections efficiently.\n",
        "'''\n",
        "data = [1, 2, 2, 3, 4, 4, 5]\n",
        "unique_data = set(data)  # Output: {1, 2, 3, 4, 5}\n",
        "\n",
        "'''5. Graph Theory:\n",
        "\n",
        "In graph algorithms, sets can be used to represent vertices or edges, particularly when you need to ensure that no duplicates are present.\n",
        "'''\n",
        "edges = {(\"A\", \"B\"), (\"B\", \"C\"), (\"A\", \"C\")}  # A set of edges in a graph"
      ],
      "metadata": {
        "colab": {
          "base_uri": "https://localhost:8080/"
        },
        "id": "dgZP8MT9XEqQ",
        "outputId": "55269b5b-1283-4458-dd03-84bf139adaad"
      },
      "execution_count": 12,
      "outputs": [
        {
          "output_type": "stream",
          "name": "stdout",
          "text": [
            "Access granted\n"
          ]
        }
      ]
    },
    {
      "cell_type": "code",
      "source": [
        "# Q7) Describe how to add , modify, and delete items in a dictionary with examples ?"
      ],
      "metadata": {
        "id": "Yi1OUYhzdG9M"
      },
      "execution_count": 13,
      "outputs": []
    },
    {
      "cell_type": "code",
      "source": [
        "'''Dictionaries in Python are mutable data structures that store key-value pairs. Here’s how to add, modify, and delete items in a dictionary, along with examples for each operation.\n",
        "\n",
        "1. Adding Items\n",
        "You can add new key-value pairs to a dictionary by simply assigning a value to a new key.\n",
        "'''\n",
        "# Creating a dictionary\n",
        "my_dict = {'name': 'Alice', 'age': 30}\n",
        "\n",
        "# Adding a new key-value pair\n",
        "my_dict['city'] = 'New York'\n",
        "print(my_dict)  # Output: {'name': 'Alice', 'age': 30, 'city': 'New York'}\n",
        "\n",
        "\n",
        "'''2. Modifying Items\n",
        "You can modify the value associated with an existing key by assigning a new value to that key.\n",
        "\n",
        "'''\n",
        "# Modifying an existing key\n",
        "my_dict['age'] = 31  # Update age\n",
        "print(my_dict)  # Output: {'name': 'Alice', 'age': 31, 'city': 'New York'}\n",
        "\n",
        "\n",
        "'''3. Deleting Items\n",
        "You can delete key-value pairs using the del statement or the pop() method.\n",
        "\n",
        "Using del: This removes the key-value pair from the dictionary.\n",
        "'''\n",
        "# Deleting an item using del\n",
        "del my_dict['city']\n",
        "print(my_dict)  # Output: {'name': 'Alice', 'age': 31}\n",
        "'''\n",
        "3.1. Using pop(): This removes the key-value pair and returns the value. If the key does not exist, it raises a KeyError unless a default value is provided.\n",
        "'''\n",
        "# Deleting an item using pop\n",
        "age = my_dict.pop('age')  # Removes 'age' and returns its value\n",
        "print(age)                # Output: 31\n",
        "print(my_dict)           # Output: {'name': 'Alice'}\n"
      ],
      "metadata": {
        "colab": {
          "base_uri": "https://localhost:8080/"
        },
        "id": "SiMdNi4kdg3q",
        "outputId": "6acaf6ba-f384-442e-8a70-81d9f4da7463"
      },
      "execution_count": 14,
      "outputs": [
        {
          "output_type": "stream",
          "name": "stdout",
          "text": [
            "{'name': 'Alice', 'age': 30, 'city': 'New York'}\n",
            "{'name': 'Alice', 'age': 31, 'city': 'New York'}\n",
            "{'name': 'Alice', 'age': 31}\n",
            "31\n",
            "{'name': 'Alice'}\n"
          ]
        }
      ]
    },
    {
      "cell_type": "code",
      "source": [
        "# Q8) Discuss the importance of dictionary keys being immutable and provide examples ?"
      ],
      "metadata": {
        "id": "tQCEULr5eVFn"
      },
      "execution_count": 15,
      "outputs": []
    },
    {
      "cell_type": "code",
      "source": [
        "'''Dictionaries in Python are mutable data structures that store key-value pairs. Here’s how to add, modify, and delete items in a dictionary, along with examples for each operation.\n",
        "\n",
        "1.Adding Items\n",
        "You can add new key-value pairs to a dictionary by simply assigning a value to a new key.\n",
        "'''\n",
        "# Creating a dictionary\n",
        "my_dict = {'name': 'Alice', 'age': 30}\n",
        "\n",
        "# Adding a new key-value pair\n",
        "my_dict['city'] = 'New York'\n",
        "print(my_dict)  # Output: {'name': 'Alice', 'age': 30, 'city': 'New York'}\n",
        "\n",
        "'''2.Modifying Items\n",
        "You can modify the value associated with an existing key by assigning a new value to that key.\n",
        "'''\n",
        "# Modifying an existing key\n",
        "my_dict['age'] = 31  # Update age\n",
        "print(my_dict)  # Output: {'name': 'Alice', 'age': 31, 'city': 'New York'}\n",
        "\n",
        "'''3.Deleting Items\n",
        "You can delete key-value pairs using the del statement or the pop() method.\n",
        "\n",
        "Using del: This removes the key-value pair from the dictionary.\n",
        "'''\n",
        "# Deleting an item using del\n",
        "del my_dict['city']\n",
        "print(my_dict)  # Output: {'name': 'Alice', 'age': 31}\n",
        "\n",
        "'''Using pop(): This removes the key-value pair and returns the value. If the key does not exist, it raises a KeyError unless a default value is provided.\n",
        "'''\n",
        "# Deleting an item using pop\n",
        "age = my_dict.pop('age')  # Removes 'age' and returns its value\n",
        "print(age)                # Output: 31\n",
        "print(my_dict)           # Output: {'name': 'Alice'}\n",
        "\n",
        "\n",
        "'''4. Summary of Dictionary Operations\n",
        "Adding Items: Use my_dict[key] = value.\n",
        "Modifying Items: Use my_dict[key] = new_value for existing keys.\n",
        "Deleting Items: Use del my_dict[key] or my_dict.pop(key).\n",
        "Conclusion\n",
        "Dictionaries are versatile data structures that allow for easy addition, modification, and deletion of items. Understanding these operations enables effective management of key-value pairs in your Python programs!\n",
        "\n",
        "'''\n",
        "\n",
        "\n",
        "'''Importance of Immutable Keys\n",
        "1. Hashability:\n",
        "\n",
        "Dictionary keys are hashed to create a unique identifier for each key. Immutable types (like strings, numbers, and tuples) have a consistent hash value that does not change. If a key were mutable, its hash value could change, which would disrupt the integrity of the dictionary.\n",
        "'''\n",
        "\n",
        "my_dict = {}\n",
        "my_dict[(1, 2)] = \"point A\"  # Using a tuple as a key\n",
        "print(my_dict)  # Output: {(1, 2): 'point A'}\n",
        "\n",
        "'''2. Consistency:\n",
        "\n",
        "If mutable types (like lists or dictionaries) were allowed as keys, modifying a key after it has been used would make it impossible to retrieve the corresponding value. This inconsistency would lead to errors and unpredictable behavior.\n",
        "'''\n",
        "my_dict = {}\n",
        "my_list_key = [1, 2]  # A mutable key (list)\n",
        "# my_dict[my_list_key] = \"value\"  # This would raise a TypeError\n",
        "\n",
        "# Instead, use a tuple (immutable)\n",
        "my_dict[(1, 2)] = \"value\"\n",
        "print(my_dict)  # Output: {(1, 2): 'value'}\n",
        "\n",
        "'''3. Efficiency:\n",
        "\n",
        "Using immutable types allows for more efficient storage and retrieval. Since the hash value is stable, lookups can be performed quickly without needing to recompute or verify the integrity of the keys.\n",
        "Logical Integrity:\n",
        "\n",
        "Immutable keys help preserve the logical structure of the data. They ensure that once a key-value pair is added, it remains stable, which is essential for maintaining relationships between keys and values.\n",
        "Examples of Valid and Invalid Keys'''\n",
        "\n",
        "\n",
        "'''Valid Keys (Immutable)'''\n",
        "#Strings:\n",
        "\n",
        "my_dict = {'name': 'Alice', 'age': 30}\n",
        "\n",
        "# Numbers:\n",
        "\n",
        "\n",
        "my_dict = {1: 'one', 2: 'two'}\n",
        "\n",
        "\n",
        "#Tuples:\n",
        "\n",
        "\n",
        "my_dict = {(1, 2): 'point A', (3, 4): 'point B'}\n",
        "\n",
        "\n",
        "'''Invalid Keys (Mutable)'''\n",
        "#Lists:\n",
        "\n",
        "my_dict = {[1, 2]: 'value'}  # This will raise a TypeError\n",
        "\n",
        "#Dictionaries:\n",
        "\n",
        "\n",
        "my_dict = {{'a': 1}: 'value'}  # This will also raise a TypeError"
      ],
      "metadata": {
        "id": "xCIj2c5nfD5C"
      },
      "execution_count": null,
      "outputs": []
    },
    {
      "cell_type": "code",
      "source": [],
      "metadata": {
        "id": "0ZmzwI8BhZUj"
      },
      "execution_count": null,
      "outputs": []
    }
  ]
}